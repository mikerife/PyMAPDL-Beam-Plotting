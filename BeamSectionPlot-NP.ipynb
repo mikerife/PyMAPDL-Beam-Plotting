{
 "cells": [
  {
   "cell_type": "code",
   "execution_count": 1,
   "id": "6889258b-a38b-4323-aa89-73c7d9432b75",
   "metadata": {},
   "outputs": [],
   "source": [
    "import os\n",
    "import numpy as np\n",
    "path = os.getcwd()\n",
    "import matplotlib as mpl\n",
    "import pyvista as pv\n",
    "from pyvista import CellType\n",
    "from ansys.mapdl.core import launch_mapdl"
   ]
  },
  {
   "cell_type": "code",
   "execution_count": 2,
   "id": "13b65c5e-c37d-4c12-a412-8117371c2e09",
   "metadata": {},
   "outputs": [],
   "source": [
    "mapdl = launch_mapdl(run_location = path)"
   ]
  },
  {
   "cell_type": "code",
   "execution_count": 3,
   "id": "8fd11080-6b1b-4c7c-96d3-5d3bae00d19c",
   "metadata": {},
   "outputs": [
    {
     "data": {
      "text/plain": [
       "3"
      ]
     },
     "execution_count": 3,
     "metadata": {},
     "output_type": "execute_result"
    }
   ],
   "source": [
    "mapdl.clear()\n",
    "mapdl.prep7()\n",
    "mapdl.et(1,188)\n",
    "mapdl.mp('ex',1,1e7)\n",
    "\n",
    "#mapdl.sectype(1,'beam','rect')\n",
    "#mapdl.secdata(1,3,2,2)\n",
    "#mapdl.sectype(1,'beam','L')\n",
    "#mapdl.secdata(2,4,.25,.5)\n",
    "mapdl.sectype(1,'beam','chan')\n",
    "mapdl.secdata(2,3,1,.1,.1,.1)\n",
    "mapdl.secoffset('origin')\n",
    "\n",
    "mapdl.n(1,0,0,0)\n",
    "mapdl.n(2,10,0,0)\n",
    "mapdl.n(3,20,0,0)\n",
    "mapdl.n(4,40,0,0)\n",
    "mapdl.n(5,0,1,0)\n",
    "\n",
    "mapdl.e(1,2,5)\n",
    "mapdl.e(2,3,5)\n",
    "mapdl.e(3,4,5)"
   ]
  },
  {
   "cell_type": "code",
   "execution_count": 4,
   "id": "5c5fcb44-7821-4fca-bd90-24b16a2a531b",
   "metadata": {},
   "outputs": [],
   "source": [
    "secdata = mapdl.slist(1,1,1,'full')\n",
    "\n",
    "file = open(\"sectionnodes.txt\", \"w\")\n",
    "file.write(secdata)\n",
    "file.close()"
   ]
  },
  {
   "cell_type": "code",
   "execution_count": 5,
   "id": "5ab6b062-0c79-4086-b677-cfcfbaf5f361",
   "metadata": {
    "tags": []
   },
   "outputs": [
    {
     "name": "stdout",
     "output_type": "stream",
     "text": [
      "137 35 86\n"
     ]
    }
   ],
   "source": [
    "line_total = 0\n",
    "start_node = 0\n",
    "end_node = 0\n",
    "\n",
    "file = open(\"sectionnodes.txt\", \"r\")\n",
    "for line in file:\n",
    "    line_total += 1\n",
    "    if line.startswith(\"    Node Number\"):\n",
    "        start_node = line_total \n",
    "    if line.startswith(\"    Beam Section Cell Connectivity\"):\n",
    "        end_node = line_total - 2\n",
    "    if line.startswith(\"    Cell Number\"):\n",
    "        start_cell = line_total + 1\n",
    "    if line.startswith(\"    Int. Pt. Number\"):\n",
    "        end_cell = line_total - 5    \n",
    "file.close()\n",
    "print(line_total, start_node, end_node)"
   ]
  },
  {
   "cell_type": "code",
   "execution_count": 6,
   "id": "c57cf40f-f736-4f93-a759-17a4a491a699",
   "metadata": {},
   "outputs": [],
   "source": [
    "section_nodes = np.genfromtxt(\"sectionnodes.txt\", skip_header=start_node, max_rows = end_node - start_node)"
   ]
  },
  {
   "cell_type": "code",
   "execution_count": 7,
   "id": "a6053318-bb62-4daf-854a-a99cf2f33fc9",
   "metadata": {
    "tags": []
   },
   "outputs": [],
   "source": [
    "#section_nodes"
   ]
  },
  {
   "cell_type": "code",
   "execution_count": 8,
   "id": "8c31824d-cd42-47fc-aa19-706f78f65fb9",
   "metadata": {},
   "outputs": [],
   "source": [
    "section_cells = np.genfromtxt(\"sectionnodes.txt\", skip_header=start_cell, max_rows = end_cell - start_cell)"
   ]
  },
  {
   "cell_type": "code",
   "execution_count": 9,
   "id": "ec15430f-3f65-408a-83ec-f135b2a7093c",
   "metadata": {
    "tags": []
   },
   "outputs": [],
   "source": [
    "#section_cells"
   ]
  },
  {
   "cell_type": "code",
   "execution_count": 10,
   "id": "6c44f254-d6f4-4df1-8e58-90e47ae8fa28",
   "metadata": {
    "tags": []
   },
   "outputs": [],
   "source": [
    "beam_elements = len(mapdl.mesh.enum)\n",
    "#beam_elements"
   ]
  },
  {
   "cell_type": "code",
   "execution_count": 11,
   "id": "d370fe62-5da4-4125-b1bd-a8607a13b255",
   "metadata": {},
   "outputs": [],
   "source": [
    "offset = np.array([])\n",
    "cell_type = np.array([])\n",
    "index = 0\n",
    "cells_pv = np.array([])\n",
    "cn_global = np.array([])\n",
    "cn_index = 0\n",
    "for element in range(1, beam_elements+1):\n",
    "    cn = np.array([])\n",
    "    for cell in range(0, len(section_cells)):\n",
    "        index +=1\n",
    "        n1 = int(section_cells[cell,1])\n",
    "        n2 = int(section_cells[cell,2])\n",
    "        n3 = int(section_cells[cell,3])\n",
    "        n4 = int(section_cells[cell,4])\n",
    "        \n",
    "        node_i = mapdl.queries.nelem(element,2)\n",
    "        node_j = mapdl.queries.nelem(element,1)\n",
    "        node_k = mapdl.queries.nelem(element,3)\n",
    "        \n",
    "        mapdl.cs(11,0,node_i,node_j,node_k)\n",
    "        mapdl.csys(11)\n",
    "        node_i_x = mapdl.queries.nx(node_i)\n",
    "        node_j_x = mapdl.queries.nx(node_j)\n",
    "        mapdl.csys(0)\n",
    "    \n",
    "        cn = np.append(cn, [[node_i_x], [section_nodes[n1-1,2]], [section_nodes[n1-1,1]]])\n",
    "        cn = np.append(cn, [[node_i_x], [section_nodes[n2-1,2]], [section_nodes[n2-1,1]]])\n",
    "        cn = np.append(cn, [[node_i_x], [section_nodes[n3-1,2]], [section_nodes[n3-1,1]]])\n",
    "        cn = np.append(cn, [[node_i_x], [section_nodes[n4-1,2]], [section_nodes[n4-1,1]]])\n",
    "        cn = np.append(cn, [[node_j_x], [section_nodes[n1-1,2]], [section_nodes[n1-1,1]]])\n",
    "        cn = np.append(cn, [[node_j_x], [section_nodes[n2-1,2]], [section_nodes[n2-1,1]]])\n",
    "        cn = np.append(cn, [[node_j_x], [section_nodes[n3-1,2]], [section_nodes[n3-1,1]]])\n",
    "        cn = np.append(cn, [[node_j_x], [section_nodes[n4-1,2]], [section_nodes[n4-1,1]]])\n",
    "        \n",
    "        cn = np.reshape(cn,(-1,3))\n",
    "        cells_pv = np.append(cells_pv,[8,(8*cn_index)+(8*cell),(8*cn_index)+(8*cell)+1,(8*cn_index)+(8*cell)+2,\n",
    "                                       (8*cn_index)+(8*cell)+3,(8*cn_index)+(8*cell)+4,(8*cn_index)+(8*cell)+5,\n",
    "                                       (8*cn_index)+(8*cell)+6,(8*cn_index)+(8*cell)+7])\n",
    "        \n",
    "        cell_type = np.append(cell_type,[CellType.HEXAHEDRON])\n",
    "        offset = np.append(offset, [(index-1)*9])\n",
    "    cn_index += len(section_cells)\n",
    "    mapdl.parameters[\"cn\"] = cn\n",
    "    mapdl.vfun('cnglobal', 'global', 'cn(1,1)',11)\n",
    "    temp = mapdl.parameters[\"cnglobal\"]\n",
    "    if element == 1:\n",
    "        cn_global = temp\n",
    "    else:\n",
    "        cn_global = np.vstack((cn_global, temp)).astype(float)\n",
    "cells_pv = cells_pv.astype(int)\n",
    "#print(cells_pv)"
   ]
  },
  {
   "cell_type": "code",
   "execution_count": 12,
   "id": "de4184a4-31e1-4bfa-b7da-aa4170fd3d45",
   "metadata": {
    "tags": []
   },
   "outputs": [],
   "source": [
    "grid = pv.UnstructuredGrid(cells_pv, cell_type, cn_global)"
   ]
  },
  {
   "cell_type": "code",
   "execution_count": 13,
   "id": "972967ec-4da8-44f8-9269-28b353d182a4",
   "metadata": {
    "tags": []
   },
   "outputs": [
    {
     "data": {
      "text/plain": [
       "FINISH SOLUTION PROCESSING\n",
       "\n",
       "\n",
       " ***** ROUTINE COMPLETED *****  CP =         0.859"
      ]
     },
     "execution_count": 13,
     "metadata": {},
     "output_type": "execute_result"
    }
   ],
   "source": [
    "mapdl.finish()\n",
    "mapdl.slashsolu()\n",
    "mapdl.d(1,'all',0)\n",
    "mapdl.f(4,'fx',100)\n",
    "mapdl.f(4,'mz',100)\n",
    "mapdl.solve()\n",
    "mapdl.finish()"
   ]
  },
  {
   "cell_type": "code",
   "execution_count": 14,
   "id": "30904b42-1ae1-4f08-9dc4-d8711a53c173",
   "metadata": {
    "tags": []
   },
   "outputs": [
    {
     "data": {
      "text/plain": [
       "USE LAST SUBSTEP ON RESULT FILE  FOR LOAD CASE 0 \n",
       "\n",
       " SET COMMAND GOT LOAD STEP=     1  SUBSTEP=     1  CUMULATIVE ITERATION=     1\n",
       "   TIME/FREQUENCY=  1.0000    \n",
       " TITLE="
      ]
     },
     "execution_count": 14,
     "metadata": {},
     "output_type": "execute_result"
    }
   ],
   "source": [
    "mapdl.post1()\n",
    "mapdl.set('last')"
   ]
  },
  {
   "cell_type": "code",
   "execution_count": 15,
   "id": "e70f811b-2d4e-4bcd-a726-5578118fa9b1",
   "metadata": {
    "tags": []
   },
   "outputs": [],
   "source": [
    "scalars = []\n",
    "for element in range(1, beam_elements+1):\n",
    "    for cell in range(0, len(section_cells)):\n",
    "        n1 = int(section_cells[cell,1])\n",
    "        n2 = int(section_cells[cell,2])\n",
    "        n3 = int(section_cells[cell,3])\n",
    "        n4 = int(section_cells[cell,4])\n",
    "        scalars.append(mapdl.get_value('secr',element,'s','eqv','ival',n1))\n",
    "        scalars.append(mapdl.get_value('secr',element,'s','eqv','ival',n2))\n",
    "        scalars.append(mapdl.get_value('secr',element,'s','eqv','ival',n3))\n",
    "        scalars.append(mapdl.get_value('secr',element,'s','eqv','ival',n4))\n",
    "        scalars.append(mapdl.get_value('secr',element,'s','eqv','jval',n1))\n",
    "        scalars.append(mapdl.get_value('secr',element,'s','eqv','jval',n2))\n",
    "        scalars.append(mapdl.get_value('secr',element,'s','eqv','jval',n3))\n",
    "        scalars.append(mapdl.get_value('secr',element,'s','eqv','jval',n4))\n"
   ]
  },
  {
   "cell_type": "code",
   "execution_count": 16,
   "id": "0d650542-8c6c-40bd-b16f-44b42a34155e",
   "metadata": {
    "tags": []
   },
   "outputs": [
    {
     "name": "stderr",
     "output_type": "stream",
     "text": [
      "D:\\PyMAPDL-AFT\\venv\\lib\\site-packages\\ansys\\mapdl\\core\\_commands\\graphics_\\style.py:271: UserWarning: pymapdl does not support /ESHAPE when plotting in Python using ``mapdl.eplot()``.  Use ``mapdl.eplot(vtk=False)`` \n",
      "  warnings.warn(\n"
     ]
    },
    {
     "data": {
      "image/png": "[encoded data removed]",
      "text/plain": [
       "<Figure size 640x480 with 1 Axes>"
      ]
     },
     "metadata": {},
     "output_type": "display_data"
    },
    {
     "data": {
      "text/plain": [
       "<Figure size 640x480 with 0 Axes>"
      ]
     },
     "metadata": {},
     "output_type": "display_data"
    },
    {
     "data": {
      "text/plain": [
       "/SHOW SWITCH PLOTS TO  PNG         - RASTER MODE."
      ]
     },
     "execution_count": 16,
     "metadata": {},
     "output_type": "execute_result"
    },
    {
     "data": {
      "text/plain": [
       "<Figure size 640x480 with 0 Axes>"
      ]
     },
     "metadata": {},
     "output_type": "display_data"
    }
   ],
   "source": [
    "mapdl.graphics('power')\n",
    "mapdl.rgb('INDEX',100,100,100, 0)   \n",
    "mapdl.rgb('INDEX', 80, 80, 80,13)   \n",
    "mapdl.rgb('INDEX', 60, 60, 60,14)  \n",
    "mapdl.rgb('INDEX', 0, 0, 0,15)  \n",
    "\n",
    "mapdl.view(1,1,1,1)\n",
    "mapdl.edge(1,1)\n",
    "mapdl.eshape(1)\n",
    "mapdl.show('png')\n",
    "mapdl.plnsol('s','eqv')\n",
    "mapdl.show('')"
   ]
  },
  {
   "cell_type": "code",
   "execution_count": 17,
   "id": "23e7470c-2fd6-4a39-9466-23d73abc196d",
   "metadata": {
    "tags": []
   },
   "outputs": [],
   "source": [
    "cmap1 = (mpl.colors.ListedColormap(['blue','royalblue', 'cyan', '#00FA9A','#7CFC00', '#ADFF2F','yellow', 'orange','red'])\n",
    "        .with_extremes())"
   ]
  },
  {
   "cell_type": "code",
   "execution_count": 18,
   "id": "9f2fb2e6-c6ac-456a-8018-c943d39b5400",
   "metadata": {
    "tags": []
   },
   "outputs": [
    {
     "data": {
      "application/vnd.jupyter.widget-view+json": {
       "model_id": "6871b6f045bf42b29451ebc5af5d3d15",
       "version_major": 2,
       "version_minor": 0
      },
      "text/plain": [
       "ViewInteractiveWidget(height=768, layout=Layout(height='auto', width='100%'), width=1024)"
      ]
     },
     "metadata": {},
     "output_type": "display_data"
    }
   ],
   "source": [
    "_ = grid.plot(scalars = scalars, show_edges=True, cmap=cmap1,background = 'white',scalar_bar_args = {\n",
    "    \"color\": \"black\",\n",
    "    \"title\": \"Expanded Beam SEQV\",\n",
    "    \"vertical\": False,\n",
    "    \"n_labels\": 10,})"
   ]
  },
  {
   "cell_type": "code",
   "execution_count": 19,
   "id": "c67f5bd3-cacd-44a1-926d-1f904974ddb2",
   "metadata": {},
   "outputs": [],
   "source": [
    "mapdl.exit()"
   ]
  },
  {
   "cell_type": "code",
   "execution_count": null,
   "id": "49bf656e-0d78-4082-a012-1dd8e9a2480f",
   "metadata": {},
   "outputs": [],
   "source": []
  }
 ],
 "metadata": {
  "kernelspec": {
   "display_name": "Python 3 (ipykernel)",
   "language": "python",
   "name": "python3"
  },
  "language_info": {
   "codemirror_mode": {
    "name": "ipython",
    "version": 3
   },
   "file_extension": ".py",
   "mimetype": "text/x-python",
   "name": "python",
   "nbconvert_exporter": "python",
   "pygments_lexer": "ipython3",
   "version": "3.9.9"
  }
 },
 "nbformat": 4,
 "nbformat_minor": 5
}
